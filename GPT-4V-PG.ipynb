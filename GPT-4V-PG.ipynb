{
 "cells": [
  {
   "cell_type": "code",
   "execution_count": 1,
   "metadata": {},
   "outputs": [
    {
     "data": {
      "text/plain": [
       "True"
      ]
     },
     "execution_count": 1,
     "metadata": {},
     "output_type": "execute_result"
    }
   ],
   "source": [
    "from dotenv import load_dotenv\n",
    "\n",
    "load_dotenv()"
   ]
  },
  {
   "cell_type": "markdown",
   "metadata": {},
   "source": [
    "Ideas:\n",
    "\n",
    "- Check if it can recognize if an image is good for kids\n",
    "- Let it recognize if its for small kids\n",
    "- Show an image and ask how to change it so that its more kid friendly\n",
    "- Start with a random image and change it to make it more kid friendly by removing any scary elements, simplifying complex shapes, adding brighter colors etc.\n",
    "- Start with a simple prompt, generate and improve."
   ]
  },
  {
   "cell_type": "code",
   "execution_count": 2,
   "metadata": {},
   "outputs": [],
   "source": [
    "from openai import OpenAI\n",
    "\n",
    "client = OpenAI()\n",
    "\n",
    "gpt4v = \"gpt-4-vision-preview\"\n",
    "\n",
    "response = client.chat.completions.create(\n",
    "    model=gpt4v, \n",
    "        messages=[\n",
    "        {\n",
    "            \"role\": \"user\",\n",
    "            \"content\": [\n",
    "                {\"type\": \"text\", \"text\": \"What’s in this image?\"},\n",
    "                {\n",
    "                    \"type\": \"image_url\",\n",
    "                    \"image_url\": \"https://oaidalleapiprodscus.blob.core.windows.net/private/org-Xzj1yaisXt5cDNveMyg1I7wI/user-9YZozn3HQ3tv70cLgw6ILiKX/img-bq7qFVVd2B6gKL7IWOLUbrkG.png?st=2023-11-09T03%3A42%3A17Z&se=2023-11-09T05%3A42%3A17Z&sp=r&sv=2021-08-06&sr=b&rscd=inline&rsct=image/png&skoid=6aaadede-4fb3-4698-a8f6-684d7786b067&sktid=a48cca56-e6da-484e-a814-9c849652bcb3&skt=2023-11-09T04%3A37%3A19Z&ske=2023-11-10T04%3A37%3A19Z&sks=b&skv=2021-08-06&sig=fzt/nqyegISlPe%2BQKr6ld/44V8rrKz3E6HI7uJ8Ts1k%3D\",\n",
    "                },\n",
    "            ],\n",
    "        }\n",
    "    ],\n",
    "    max_tokens=100\n",
    ")\n",
    "\n",
    "print(response.choices[0].message.content)"
   ]
  },
  {
   "cell_type": "markdown",
   "metadata": {},
   "source": [
    "Convert local images"
   ]
  },
  {
   "cell_type": "code",
   "execution_count": 8,
   "metadata": {},
   "outputs": [],
   "source": [
    "import base64\n",
    "\n",
    "# Function to encode the image\n",
    "def encode_image(image_path):\n",
    "    with open(image_path, \"rb\") as image_file:\n",
    "        return base64.b64encode(image_file.read()).decode('utf-8')\n",
    "\n",
    "# Path to your image\n",
    "img_path = \"images/RabbitCartoonHD.png\"\n",
    "# Getting the base64 string\n",
    "base64_img = encode_image(img_path)"
   ]
  },
  {
   "cell_type": "markdown",
   "metadata": {},
   "source": [
    "Helper for local images"
   ]
  },
  {
   "cell_type": "code",
   "execution_count": 17,
   "metadata": {},
   "outputs": [],
   "source": [
    "from openai import OpenAI\n",
    "\n",
    "client = OpenAI()\n",
    "\n",
    "default_prompt = \"Here is an image for you to describe:\"\n",
    "\n",
    "def describe_local_image(image_path, prompt=default_prompt):\n",
    "    response = client.chat.completions.create(\n",
    "        model=\"gpt-4-vision-preview\",\n",
    "        messages=[\n",
    "            {\n",
    "                \"role\": \"user\",\n",
    "                \"content\": [\n",
    "                    {\"type\": \"text\", \"text\": f\"{prompt}\"},\n",
    "                    {\"type\": \"image_url\", \"image_url\": {\"url\": f\"data:image/jpeg;base64,{image_path}\"}},\n",
    "                ],\n",
    "            }\n",
    "        ],\n",
    "        max_tokens=300,\n",
    "    )\n",
    "\n",
    "    return response.choices[0].message.content"
   ]
  },
  {
   "cell_type": "code",
   "execution_count": 13,
   "metadata": {},
   "outputs": [
    {
     "name": "stdout",
     "output_type": "stream",
     "text": [
      "This is an image of a highly stylized and anthropomorphic cartoon rabbit. The rabbit has large, expressive green eyes, a small pink nose, and a playful smile, with its little tongue showing. It has soft, brown and white fur, prominent ears, and is depicted in mid-jump or hop, with its front paws stretched forward and its hind legs trailing behind. The rabbit's design is exaggerated with a large head in proportion to its body, enhancing its cute appeal.\n",
      "\n",
      "The background suggests an idyllic natural setting, featuring a lush green meadow with flowers scattered throughout, under a tranquil sky showing a gradient from golden yellow to soft pink and blue, suggestive of either dawn or dusk. There are a few white birds or butterflies in the distance, contributing to the peaceful ambiance of the scene.\n",
      "\n",
      "The image is likely designed to evoke feelings of joy, innocence, and the whimsy commonly associated with cartoon depictions of animals. It is common in children's media, entertainment, and merchandise, where such appealing character designs are used to attract and engage young audiences.\n"
     ]
    }
   ],
   "source": [
    "print(describe_local_image(base64_img))"
   ]
  },
  {
   "cell_type": "code",
   "execution_count": 20,
   "metadata": {},
   "outputs": [
    {
     "name": "stdout",
     "output_type": "stream",
     "text": [
      "Elements that are often deemed suitable for characters in content for 3-year-old kids include:\n",
      "\n",
      "1. Bright and Appealing Colors: Characters and environments that use a vibrant color palette tend to be more attractive to young children.\n",
      "2. Simplicity: Simple designs without overly complex details are easier for young children to recognize and understand.\n",
      "3. Positive Emotion: Characters with smiling and friendly expressions can be more relatable and comforting to children.\n",
      "4. Soft Shapes: Rounded edges and non-threatening, soft shapes are generally preferred over sharp or angular designs.\n",
      "5. Familiar Themes: Incorporating animals, nature, and common objects can help children relate their own experiences to the characters.\n",
      "6. Non-Scary Elements: It's important to avoid elements that might scare or confuse very young children, such as monsters, violence, or dark themes.\n",
      "\n",
      "The image you've provided seems to be quite suitable for 3-year-old children. It features a cute, cartoon-style rabbit with large, friendly eyes, a soft shape, and it's set in a bright, colorful environment that looks peaceful and engaging. The character is also displaying a warm and cheerful expression, which is inviting for young children. Based on these elements, this image would likely be considered appropriate and enjoyable for a 3-year-old.\n"
     ]
    }
   ],
   "source": [
    "print(describe_local_image(base64_img, prompt=\"What are the elements features of characters that are suitable for 3yo kids? Is the image suitalbe for 3yo kids?\"))"
   ]
  },
  {
   "cell_type": "code",
   "execution_count": 23,
   "metadata": {},
   "outputs": [
    {
     "name": "stdout",
     "output_type": "stream",
     "text": [
      "Characters that are suitable for 3-year-old children usually have these features:\n",
      "\n",
      "1. Bright, vibrant colors that are visually stimulating.\n",
      "2. Simple and clear designs that are easy for young minds to recognize and understand.\n",
      "3. Friendly and warm facial expressions that make them approachable and relatable.\n",
      "4. Non-threatening and inviting appearances that aren't scary or intimidating.\n",
      "5. Often anthropomorphic (having human-like qualities), which makes them more relatable to children.\n",
      "6. Contains educational elements, promoting learning through play or storytelling.\n",
      "\n",
      "Regarding the image you provided, it shows a highly detailed and realistic robot holding what appears to be a smartphone. While the image is sophisticated and the robot has a neutral expression, which is neither very threatening nor extremely friendly, it might be more appealing to older children or adults who have an interest in technology or science fiction. \n",
      "\n",
      "For a 3-year-old child, it may not be the best-suited content simply because the robot's appearance is relatively complex and lacks the whimsical or softer features that typically attract young children. Additionally, the blue light elements and the metallic appearance might not be as engaging for toddlers as brighter primary colors and more cartoon-like designs.\n",
      "\n",
      "Of course, every child is unique, and some might find this image interesting, especially if they have an early interest in robots or mechanical things. However, as a general guideline, characters for 3-year-olds often have more exaggerated and playful features.\n"
     ]
    }
   ],
   "source": [
    "robot_path = \"images/AIRobot.jpeg\"\n",
    "# Getting the base64 string\n",
    "robot = encode_image(robot_path)\n",
    "print(describe_local_image(robot, prompt=\"What are the elements features of characters that are suitable for 3yo kids? Is the image suitalbe for 3yo kids?\"))"
   ]
  },
  {
   "cell_type": "code",
   "execution_count": null,
   "metadata": {},
   "outputs": [],
   "source": [
    "print(describe_local_image(base64_img, prompt=\"What are the elements features of characters that are suitable for 3yo kids? Is the image suitalbe for 3yo kids?\"))"
   ]
  }
 ],
 "metadata": {
  "kernelspec": {
   "display_name": "autogen",
   "language": "python",
   "name": "python3"
  },
  "language_info": {
   "codemirror_mode": {
    "name": "ipython",
    "version": 3
   },
   "file_extension": ".py",
   "mimetype": "text/x-python",
   "name": "python",
   "nbconvert_exporter": "python",
   "pygments_lexer": "ipython3",
   "version": "3.10.13"
  }
 },
 "nbformat": 4,
 "nbformat_minor": 2
}
